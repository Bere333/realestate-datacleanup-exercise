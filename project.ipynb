{
 "cells": [
  {
   "attachments": {},
   "cell_type": "markdown",
   "id": "innocent-university",
   "metadata": {},
   "source": [
    "# Real Estate Clean up\n",
    "\n",
    "This is a real dataset, and it was downloaded using web scraping techniques. The data contains registers from **Fotocasa** which is one of the most popular real estate websites in Spain. Please, do not do this (web scraping) unless it is for academic purposes.\n",
    "\n",
    "The dataset was downloaded a few years ago by Henry Navarro, and in no case were economic returns obtained from it.\n",
    "\n",
    "It contains thousands of data from real houses published on the web www.fotocasa.com. Your goal is to extract as much information as possible with the knowledge you have so far about data science, for example what is the most expensive house in the entire dataset?\n",
    "\n",
    "Let's start with precisely that question... Good luck!"
   ]
  },
  {
   "attachments": {},
   "cell_type": "markdown",
   "id": "multiple-glass",
   "metadata": {},
   "source": [
    "#### Exercise 00. Read the dataset assets/real_estate.csv and try to visualize the table (★☆☆)"
   ]
  },
  {
   "cell_type": "code",
   "execution_count": 1,
   "id": "frank-heath",
   "metadata": {},
   "outputs": [
    {
     "data": {
      "text/html": [
       "<div>\n",
       "<style scoped>\n",
       "    .dataframe tbody tr th:only-of-type {\n",
       "        vertical-align: middle;\n",
       "    }\n",
       "\n",
       "    .dataframe tbody tr th {\n",
       "        vertical-align: top;\n",
       "    }\n",
       "\n",
       "    .dataframe thead th {\n",
       "        text-align: right;\n",
       "    }\n",
       "</style>\n",
       "<table border=\"1\" class=\"dataframe\">\n",
       "  <thead>\n",
       "    <tr style=\"text-align: right;\">\n",
       "      <th></th>\n",
       "      <th>Unnamed: 0</th>\n",
       "      <th>id_realEstates</th>\n",
       "      <th>isNew</th>\n",
       "      <th>realEstate_name</th>\n",
       "      <th>phone_realEstate</th>\n",
       "      <th>url_inmueble</th>\n",
       "      <th>rooms</th>\n",
       "      <th>bathrooms</th>\n",
       "      <th>surface</th>\n",
       "      <th>price</th>\n",
       "      <th>...</th>\n",
       "      <th>level4Id</th>\n",
       "      <th>level5Id</th>\n",
       "      <th>level6Id</th>\n",
       "      <th>level7Id</th>\n",
       "      <th>level8Id</th>\n",
       "      <th>accuracy</th>\n",
       "      <th>latitude</th>\n",
       "      <th>longitude</th>\n",
       "      <th>zipCode</th>\n",
       "      <th>customZone</th>\n",
       "    </tr>\n",
       "  </thead>\n",
       "  <tbody>\n",
       "    <tr>\n",
       "      <th>0</th>\n",
       "      <td>1</td>\n",
       "      <td>153771986</td>\n",
       "      <td>False</td>\n",
       "      <td>ferrari 57 inmobiliaria</td>\n",
       "      <td>912177526.0</td>\n",
       "      <td>https://www.fotocasa.es/es/comprar/vivienda/ma...</td>\n",
       "      <td>3.0</td>\n",
       "      <td>2.0</td>\n",
       "      <td>103.0</td>\n",
       "      <td>195000</td>\n",
       "      <td>...</td>\n",
       "      <td>0</td>\n",
       "      <td>0</td>\n",
       "      <td>0</td>\n",
       "      <td>0</td>\n",
       "      <td>0</td>\n",
       "      <td>0</td>\n",
       "      <td>40,2948276786438</td>\n",
       "      <td>-3,44402412135624</td>\n",
       "      <td>NaN</td>\n",
       "      <td>NaN</td>\n",
       "    </tr>\n",
       "    <tr>\n",
       "      <th>1</th>\n",
       "      <td>2</td>\n",
       "      <td>153867863</td>\n",
       "      <td>False</td>\n",
       "      <td>tecnocasa fuenlabrada ferrocarril</td>\n",
       "      <td>916358736.0</td>\n",
       "      <td>https://www.fotocasa.es/es/comprar/vivienda/ma...</td>\n",
       "      <td>3.0</td>\n",
       "      <td>1.0</td>\n",
       "      <td>NaN</td>\n",
       "      <td>89000</td>\n",
       "      <td>...</td>\n",
       "      <td>0</td>\n",
       "      <td>0</td>\n",
       "      <td>0</td>\n",
       "      <td>0</td>\n",
       "      <td>0</td>\n",
       "      <td>1</td>\n",
       "      <td>40,28674</td>\n",
       "      <td>-3,79351</td>\n",
       "      <td>NaN</td>\n",
       "      <td>NaN</td>\n",
       "    </tr>\n",
       "    <tr>\n",
       "      <th>2</th>\n",
       "      <td>3</td>\n",
       "      <td>153430440</td>\n",
       "      <td>False</td>\n",
       "      <td>look find boadilla</td>\n",
       "      <td>916350408.0</td>\n",
       "      <td>https://www.fotocasa.es/es/comprar/vivienda/ma...</td>\n",
       "      <td>2.0</td>\n",
       "      <td>2.0</td>\n",
       "      <td>99.0</td>\n",
       "      <td>390000</td>\n",
       "      <td>...</td>\n",
       "      <td>0</td>\n",
       "      <td>0</td>\n",
       "      <td>0</td>\n",
       "      <td>0</td>\n",
       "      <td>0</td>\n",
       "      <td>0</td>\n",
       "      <td>40,4115646786438</td>\n",
       "      <td>-3,90662252135624</td>\n",
       "      <td>NaN</td>\n",
       "      <td>NaN</td>\n",
       "    </tr>\n",
       "    <tr>\n",
       "      <th>3</th>\n",
       "      <td>4</td>\n",
       "      <td>152776331</td>\n",
       "      <td>False</td>\n",
       "      <td>tecnocasa fuenlabrada ferrocarril</td>\n",
       "      <td>916358736.0</td>\n",
       "      <td>https://www.fotocasa.es/es/comprar/vivienda/ma...</td>\n",
       "      <td>3.0</td>\n",
       "      <td>1.0</td>\n",
       "      <td>86.0</td>\n",
       "      <td>89000</td>\n",
       "      <td>...</td>\n",
       "      <td>0</td>\n",
       "      <td>0</td>\n",
       "      <td>0</td>\n",
       "      <td>0</td>\n",
       "      <td>0</td>\n",
       "      <td>0</td>\n",
       "      <td>40,2853785786438</td>\n",
       "      <td>-3,79508142135624</td>\n",
       "      <td>NaN</td>\n",
       "      <td>NaN</td>\n",
       "    </tr>\n",
       "    <tr>\n",
       "      <th>4</th>\n",
       "      <td>5</td>\n",
       "      <td>153180188</td>\n",
       "      <td>False</td>\n",
       "      <td>ferrari 57 inmobiliaria</td>\n",
       "      <td>912177526.0</td>\n",
       "      <td>https://www.fotocasa.es/es/comprar/vivienda/ma...</td>\n",
       "      <td>2.0</td>\n",
       "      <td>2.0</td>\n",
       "      <td>106.0</td>\n",
       "      <td>172000</td>\n",
       "      <td>...</td>\n",
       "      <td>0</td>\n",
       "      <td>0</td>\n",
       "      <td>0</td>\n",
       "      <td>0</td>\n",
       "      <td>0</td>\n",
       "      <td>0</td>\n",
       "      <td>40,2998774864376</td>\n",
       "      <td>-3,45226301356237</td>\n",
       "      <td>NaN</td>\n",
       "      <td>NaN</td>\n",
       "    </tr>\n",
       "    <tr>\n",
       "      <th>...</th>\n",
       "      <td>...</td>\n",
       "      <td>...</td>\n",
       "      <td>...</td>\n",
       "      <td>...</td>\n",
       "      <td>...</td>\n",
       "      <td>...</td>\n",
       "      <td>...</td>\n",
       "      <td>...</td>\n",
       "      <td>...</td>\n",
       "      <td>...</td>\n",
       "      <td>...</td>\n",
       "      <td>...</td>\n",
       "      <td>...</td>\n",
       "      <td>...</td>\n",
       "      <td>...</td>\n",
       "      <td>...</td>\n",
       "      <td>...</td>\n",
       "      <td>...</td>\n",
       "      <td>...</td>\n",
       "      <td>...</td>\n",
       "      <td>...</td>\n",
       "    </tr>\n",
       "    <tr>\n",
       "      <th>15330</th>\n",
       "      <td>15331</td>\n",
       "      <td>153901377</td>\n",
       "      <td>False</td>\n",
       "      <td>infocasa consulting</td>\n",
       "      <td>911360461.0</td>\n",
       "      <td>https://www.fotocasa.es/es/comprar/vivienda/ma...</td>\n",
       "      <td>2.0</td>\n",
       "      <td>1.0</td>\n",
       "      <td>96.0</td>\n",
       "      <td>259470</td>\n",
       "      <td>...</td>\n",
       "      <td>0</td>\n",
       "      <td>0</td>\n",
       "      <td>0</td>\n",
       "      <td>0</td>\n",
       "      <td>0</td>\n",
       "      <td>0</td>\n",
       "      <td>40,45416</td>\n",
       "      <td>-3,70286</td>\n",
       "      <td>NaN</td>\n",
       "      <td>NaN</td>\n",
       "    </tr>\n",
       "    <tr>\n",
       "      <th>15331</th>\n",
       "      <td>15332</td>\n",
       "      <td>150394373</td>\n",
       "      <td>False</td>\n",
       "      <td>inmobiliaria pulpon</td>\n",
       "      <td>912788039.0</td>\n",
       "      <td>https://www.fotocasa.es/es/comprar/vivienda/ma...</td>\n",
       "      <td>3.0</td>\n",
       "      <td>1.0</td>\n",
       "      <td>150.0</td>\n",
       "      <td>165000</td>\n",
       "      <td>...</td>\n",
       "      <td>0</td>\n",
       "      <td>0</td>\n",
       "      <td>0</td>\n",
       "      <td>0</td>\n",
       "      <td>0</td>\n",
       "      <td>0</td>\n",
       "      <td>40,36652</td>\n",
       "      <td>-3,48951</td>\n",
       "      <td>NaN</td>\n",
       "      <td>NaN</td>\n",
       "    </tr>\n",
       "    <tr>\n",
       "      <th>15332</th>\n",
       "      <td>15333</td>\n",
       "      <td>153901397</td>\n",
       "      <td>False</td>\n",
       "      <td>tecnocasa torrelodones</td>\n",
       "      <td>912780348.0</td>\n",
       "      <td>https://www.fotocasa.es/es/comprar/vivienda/ma...</td>\n",
       "      <td>4.0</td>\n",
       "      <td>2.0</td>\n",
       "      <td>175.0</td>\n",
       "      <td>495000</td>\n",
       "      <td>...</td>\n",
       "      <td>0</td>\n",
       "      <td>0</td>\n",
       "      <td>0</td>\n",
       "      <td>0</td>\n",
       "      <td>0</td>\n",
       "      <td>0</td>\n",
       "      <td>40,57444</td>\n",
       "      <td>-3,92124</td>\n",
       "      <td>NaN</td>\n",
       "      <td>NaN</td>\n",
       "    </tr>\n",
       "    <tr>\n",
       "      <th>15333</th>\n",
       "      <td>15334</td>\n",
       "      <td>152607440</td>\n",
       "      <td>False</td>\n",
       "      <td>inmobiliaria pulpon</td>\n",
       "      <td>912788039.0</td>\n",
       "      <td>https://www.fotocasa.es/es/comprar/vivienda/ma...</td>\n",
       "      <td>3.0</td>\n",
       "      <td>2.0</td>\n",
       "      <td>101.0</td>\n",
       "      <td>195000</td>\n",
       "      <td>...</td>\n",
       "      <td>0</td>\n",
       "      <td>0</td>\n",
       "      <td>0</td>\n",
       "      <td>0</td>\n",
       "      <td>0</td>\n",
       "      <td>0</td>\n",
       "      <td>40,36967</td>\n",
       "      <td>-3,48105</td>\n",
       "      <td>NaN</td>\n",
       "      <td>NaN</td>\n",
       "    </tr>\n",
       "    <tr>\n",
       "      <th>15334</th>\n",
       "      <td>15335</td>\n",
       "      <td>153901356</td>\n",
       "      <td>False</td>\n",
       "      <td>infocasa consulting</td>\n",
       "      <td>911360461.0</td>\n",
       "      <td>https://www.fotocasa.es/es/comprar/vivienda/ma...</td>\n",
       "      <td>3.0</td>\n",
       "      <td>2.0</td>\n",
       "      <td>152.0</td>\n",
       "      <td>765000</td>\n",
       "      <td>...</td>\n",
       "      <td>0</td>\n",
       "      <td>0</td>\n",
       "      <td>0</td>\n",
       "      <td>0</td>\n",
       "      <td>0</td>\n",
       "      <td>0</td>\n",
       "      <td>40,45773</td>\n",
       "      <td>-3,69068</td>\n",
       "      <td>NaN</td>\n",
       "      <td>NaN</td>\n",
       "    </tr>\n",
       "  </tbody>\n",
       "</table>\n",
       "<p>15335 rows × 37 columns</p>\n",
       "</div>"
      ],
      "text/plain": [
       "       Unnamed: 0  id_realEstates  isNew                    realEstate_name  \\\n",
       "0               1       153771986  False            ferrari 57 inmobiliaria   \n",
       "1               2       153867863  False  tecnocasa fuenlabrada ferrocarril   \n",
       "2               3       153430440  False                 look find boadilla   \n",
       "3               4       152776331  False  tecnocasa fuenlabrada ferrocarril   \n",
       "4               5       153180188  False            ferrari 57 inmobiliaria   \n",
       "...           ...             ...    ...                                ...   \n",
       "15330       15331       153901377  False                infocasa consulting   \n",
       "15331       15332       150394373  False                inmobiliaria pulpon   \n",
       "15332       15333       153901397  False             tecnocasa torrelodones   \n",
       "15333       15334       152607440  False                inmobiliaria pulpon   \n",
       "15334       15335       153901356  False                infocasa consulting   \n",
       "\n",
       "       phone_realEstate                                       url_inmueble  \\\n",
       "0           912177526.0  https://www.fotocasa.es/es/comprar/vivienda/ma...   \n",
       "1           916358736.0  https://www.fotocasa.es/es/comprar/vivienda/ma...   \n",
       "2           916350408.0  https://www.fotocasa.es/es/comprar/vivienda/ma...   \n",
       "3           916358736.0  https://www.fotocasa.es/es/comprar/vivienda/ma...   \n",
       "4           912177526.0  https://www.fotocasa.es/es/comprar/vivienda/ma...   \n",
       "...                 ...                                                ...   \n",
       "15330       911360461.0  https://www.fotocasa.es/es/comprar/vivienda/ma...   \n",
       "15331       912788039.0  https://www.fotocasa.es/es/comprar/vivienda/ma...   \n",
       "15332       912780348.0  https://www.fotocasa.es/es/comprar/vivienda/ma...   \n",
       "15333       912788039.0  https://www.fotocasa.es/es/comprar/vivienda/ma...   \n",
       "15334       911360461.0  https://www.fotocasa.es/es/comprar/vivienda/ma...   \n",
       "\n",
       "       rooms  bathrooms  surface   price  ... level4Id level5Id level6Id  \\\n",
       "0        3.0        2.0    103.0  195000  ...        0        0        0   \n",
       "1        3.0        1.0      NaN   89000  ...        0        0        0   \n",
       "2        2.0        2.0     99.0  390000  ...        0        0        0   \n",
       "3        3.0        1.0     86.0   89000  ...        0        0        0   \n",
       "4        2.0        2.0    106.0  172000  ...        0        0        0   \n",
       "...      ...        ...      ...     ...  ...      ...      ...      ...   \n",
       "15330    2.0        1.0     96.0  259470  ...        0        0        0   \n",
       "15331    3.0        1.0    150.0  165000  ...        0        0        0   \n",
       "15332    4.0        2.0    175.0  495000  ...        0        0        0   \n",
       "15333    3.0        2.0    101.0  195000  ...        0        0        0   \n",
       "15334    3.0        2.0    152.0  765000  ...        0        0        0   \n",
       "\n",
       "      level7Id level8Id accuracy          latitude          longitude zipCode  \\\n",
       "0            0        0        0  40,2948276786438  -3,44402412135624     NaN   \n",
       "1            0        0        1          40,28674           -3,79351     NaN   \n",
       "2            0        0        0  40,4115646786438  -3,90662252135624     NaN   \n",
       "3            0        0        0  40,2853785786438  -3,79508142135624     NaN   \n",
       "4            0        0        0  40,2998774864376  -3,45226301356237     NaN   \n",
       "...        ...      ...      ...               ...                ...     ...   \n",
       "15330        0        0        0          40,45416           -3,70286     NaN   \n",
       "15331        0        0        0          40,36652           -3,48951     NaN   \n",
       "15332        0        0        0          40,57444           -3,92124     NaN   \n",
       "15333        0        0        0          40,36967           -3,48105     NaN   \n",
       "15334        0        0        0          40,45773           -3,69068     NaN   \n",
       "\n",
       "      customZone  \n",
       "0            NaN  \n",
       "1            NaN  \n",
       "2            NaN  \n",
       "3            NaN  \n",
       "4            NaN  \n",
       "...          ...  \n",
       "15330        NaN  \n",
       "15331        NaN  \n",
       "15332        NaN  \n",
       "15333        NaN  \n",
       "15334        NaN  \n",
       "\n",
       "[15335 rows x 37 columns]"
      ]
     },
     "execution_count": 1,
     "metadata": {},
     "output_type": "execute_result"
    }
   ],
   "source": [
    "# Imports\n",
    "import pandas as pd\n",
    "import matplotlib.pyplot as plt\n",
    "import numpy as np\n",
    "\n",
    "# This CSV file contains semicolons instead of comas as separator\n",
    "ds = pd.read_csv('assets/real_estate.csv', sep=';')\n",
    "ds"
   ]
  },
  {
   "attachments": {},
   "cell_type": "markdown",
   "id": "latin-guest",
   "metadata": {},
   "source": [
    "#### Exercise 01. Which is the most expensive house in the dataset? (★☆☆)\n",
    "\n",
    "Print the address and the price of the selected house. For example:\n",
    "\n",
    "`The house with address General Street Nº5 is the most expensive and its price is 5000000 USD`"
   ]
  },
  {
   "cell_type": "code",
   "execution_count": 2,
   "id": "developing-optimum",
   "metadata": {},
   "outputs": [
    {
     "name": "stdout",
     "output_type": "stream",
     "text": [
      "13110    The max price house is 8500000 and its address...\n",
      "Name: address, dtype: object\n"
     ]
    }
   ],
   "source": [
    "# TODO\n",
    "house_max = ds[\"price\"].max()\n",
    "house_max_address = ds.loc[ds[\"price\"] == house_max][\"address\"]\n",
    "print(\"The max price house is \" + str(house_max) + \" and its address is \" + house_max_address)"
   ]
  },
  {
   "attachments": {},
   "cell_type": "markdown",
   "id": "lesser-cosmetic",
   "metadata": {},
   "source": [
    "#### Exercise 02. Which is the cheapest house in the dataset? (★☆☆)\n",
    "\n",
    "Print the address and the price of the selected house. For example:\n",
    "\n",
    "`The house with address Concrete Street Nº1 is the cheapest and its price is 12000 USD`"
   ]
  },
  {
   "cell_type": "code",
   "execution_count": 3,
   "id": "lovely-oasis",
   "metadata": {},
   "outputs": [
    {
     "name": "stdout",
     "output_type": "stream",
     "text": [
      "7491    The min house's price is 600 and its address i...\n",
      "Name: address, dtype: object\n"
     ]
    }
   ],
   "source": [
    "# TODO\n",
    "house_filter = ds.loc[ds[\"price\"] != 0]\n",
    "house_min = house_filter[\"price\"].min()\n",
    "house_min_address = ds.loc[ds[\"price\"] == house_min][\"address\"]\n",
    "print(\"The min house's price is \" + str(house_min) + \" and its address is \" + house_min_address)"
   ]
  },
  {
   "attachments": {},
   "cell_type": "markdown",
   "id": "compliant-fellowship",
   "metadata": {},
   "source": [
    "#### Exercise 03. Which is the biggest and the smallest house in the dataset? (★☆☆)\n",
    "\n",
    "Print both the address and the surface of the selected houses. For example:\n",
    "\n",
    "`The biggest house is located on Yukka Street Nº10 and its surface is 5000 meters`\n",
    "\n",
    "`The smallest house is located on County Road 1 N and its surface is 200 meters`"
   ]
  },
  {
   "cell_type": "code",
   "execution_count": 4,
   "id": "every-tiffany",
   "metadata": {},
   "outputs": [
    {
     "name": "stdout",
     "output_type": "stream",
     "text": [
      "6794    The biggest house is located on Sevilla la Nue...\n",
      "Name: address, dtype: object\n",
      "498    The smallest house is located on Calle Amparo,...\n",
      "Name: address, dtype: object\n"
     ]
    }
   ],
   "source": [
    "# TODO\n",
    "# The biggest \n",
    "house_max_surface = ds[\"surface\"].max()\n",
    "# print(house_max_surface)\n",
    "# house\n",
    "house_min_surface = ds[\"surface\"].min()\n",
    "# print(house_min_surface)\n",
    "house_max_surface_address = ds.loc[ds[\"surface\"] == house_max_surface][\"address\"]\n",
    "house_min_surface_address = ds.loc[ds[\"surface\"] == house_min_surface][\"address\"]\n",
    "\n",
    "print(\"The biggest house is located on \" + house_max_surface_address + \" and its surface is \" + str(house_max_surface) + \" meters\")\n",
    "print(\"The smallest house is located on \" + house_min_surface_address + \" and its surface is \" + str(house_min_surface) + \" meters\")"
   ]
  },
  {
   "attachments": {},
   "cell_type": "markdown",
   "id": "danish-spirit",
   "metadata": {},
   "source": [
    "#### Exercise 04. How many populations (level5 column) the dataset contains? (★☆☆)\n",
    "\n",
    "Print the names of the populations with a comma as a separator. For example:\n",
    "\n",
    "`> print(populations)`\n",
    "\n",
    "`population1, population2, population3, ...`"
   ]
  },
  {
   "cell_type": "code",
   "execution_count": 5,
   "id": "exciting-accreditation",
   "metadata": {},
   "outputs": [
    {
     "name": "stdout",
     "output_type": "stream",
     "text": [
      " Madrid Capital, Alcalá de Henares, Las Rozas de Madrid, Móstoles, Getafe, San Sebastián de los Reyes, Boadilla del Monte, Parla, Valdemoro, Torrejón de Ardoz, Pozuelo de Alarcón, Alcobendas, Fuenlabrada, Collado Villalba, Arganda del Rey, Leganés, Alcorcón, Coslada, Villaviciosa de Odón, Pinto, Majadahonda, Aranjuez, Arroyomolinos (Madrid), Rivas-vaciamadrid, Torrelodones, Navalcarnero, El Escorial, Ciempozuelos, Galapagar, Velilla de San Antonio, Moralzarzal, San Lorenzo de El Escorial, Villanueva de la Cañada, Villanueva del Pardillo, San Martín de la Vega, Colmenar Viejo, El Álamo, Villalbilla, Miraflores de la Sierra, Humanes de Madrid, Alpedrete, Valdemorillo, Mejorada del Campo, Torrejón de la Calzada, Paracuellos de Jarama, Guadarrama, San Fernando de Henares, Meco, Camarma de Esteruelas, Tres Cantos, Algete, San Martín de Valdeiglesias, Robledo de Chavela, El Molar (Madrid), Manzanares El Real, Brunete, Loeches, Villa del Prado, Torres de la Alameda, Campo Real, Griñón, Daganzo de Arriba, Cubas de la Sagra, Soto del Real, Hoyo de Manzanares, El Boalo - Cerceda – Mataelpino, Colmenar de Oreja, Tielmes, San Agustín del Guadalix, Pedrezuela, Chinchón, Los Santos de la Humosa, Guadalix de la Sierra, Collado Mediano, Villarejo de Salvanés, Sevilla la Nueva, Pelayos de la Presa, Torrejón de Velasco, Ajalvir, Colmenarejo, Villamantilla, Talamanca de Jarama, Becerril de la Sierra, Quijorna, Morata de Tajuña, Navalagamella, Carabaña, Moraleja de Enmedio, Serranillos del Valle, Pozuelo del Rey, Valdetorres de Jarama, Cenicientos, Fresno de Torote - Serracines, Valdilecha, Valdeavero, Aldea del Fresno, Fuentidueña de Tajo, Ribatejada, Los Molinos, Venturada, Nuevo Baztán, Casarrubuelos, Gargantilla del Lozoya, Valdeolmos-Alalpardo, Cadalso de los Vidrios, Cercedilla, Titulcia, Torrelaguna, Orusco de Tajuña, Fuente El Saz de Jarama, Pezuela de las Torres, Cobeña, Corpa, Valdemaqueda, Belmonte de Tajo, Redueña, Bustarviejo, Fresnedillas de la Oliva, Santa María de la Alameda, Villamanta, Villar del Olmo, Garganta de los Montes, Villavieja del Lozoya, Valdelaguna, Navacerrada, Navas del Rey, Perales de Tajuña, Villanueva de Perales, Santorcaz, El Berrueco, Valdemanco, El Vellón, La Cabrera, Estremera, Cabanillas de la Sierra, Colmenar del Arroyo, Lozoyuela-navas-sieteiglesias, Buitrago del Lozoya, Valdepiélagos, Batres, Chapinería, Horcajo de la Sierra, Anchuelo, Valdaracete, Zarzalejo, Patones, Villamanrique de Tajo, Villaconejos, Valverde de Alcalá, Gascones, Puentes Viejas, Torremocha de Jarama, Robregordo, El Atazar, Madarcos, Braojos, Brea de Tajo, Piñuécar-gandullas, Ambite, Navarredonda, Canencia, Lozoya, Navalafuente, Fresno de Torote, Pinilla del Valle, Rascafría, La Hiruela, Montejo de la Sierra\n"
     ]
    }
   ],
   "source": [
    "# TODO\n",
    "populations = ds[\"level5\"].value_counts().index\n",
    "print(*populations, sep =', ')"
   ]
  },
  {
   "attachments": {},
   "cell_type": "markdown",
   "id": "crazy-blame",
   "metadata": {},
   "source": [
    "#### Exercise 05. Does the dataset contain NAs? (★☆☆)\n",
    "\n",
    "Print a boolean value (`True` or `False`) followed by the rows/cols that contains NAs."
   ]
  },
  {
   "cell_type": "code",
   "execution_count": 6,
   "id": "transparent-poetry",
   "metadata": {},
   "outputs": [
    {
     "name": "stdout",
     "output_type": "stream",
     "text": [
      "False Unnamed: 0\n",
      "False id_realEstates\n",
      "False isNew\n",
      "False realEstate_name\n",
      "False phone_realEstate\n",
      "False url_inmueble\n",
      "False rooms\n",
      "False bathrooms\n",
      "False surface\n",
      "False price\n",
      "False date\n",
      "False description\n",
      "False address\n",
      "False country\n",
      "False level1\n",
      "False level2\n",
      "False level3\n",
      "False level4\n",
      "False level5\n",
      "False level6\n",
      "False level7\n",
      "False level8\n",
      "False upperLevel\n",
      "False countryId\n",
      "False level1Id\n",
      "False level2Id\n",
      "False level3Id\n",
      "False level4Id\n",
      "False level5Id\n",
      "False level6Id\n",
      "False level7Id\n",
      "False level8Id\n",
      "False accuracy\n",
      "False latitude\n",
      "False longitude\n",
      "True zipCode\n",
      "True customZone\n"
     ]
    }
   ],
   "source": [
    "# TODO\n",
    "for col in ds.columns:\n",
    "  #print(ds[col].isna().value_counts())\n",
    "  if (ds[col].isna().value_counts().index == True).all():\n",
    "    print(\"True \" + ds[col].name)\n",
    "  else:\n",
    "    print(\"False \" + ds[col].name)\n",
    "    #print(ds[col].isna().value_counts().index)"
   ]
  },
  {
   "attachments": {},
   "cell_type": "markdown",
   "id": "italic-hydrogen",
   "metadata": {},
   "source": [
    "#### Exercise 06. Delete the NAs of the dataset, if applicable (★★☆)\n",
    "\n",
    "Print a comparison between the dimensions of the original DataFrame versus the DataFrame after the deletions."
   ]
  },
  {
   "cell_type": "code",
   "execution_count": 7,
   "id": "administrative-roads",
   "metadata": {},
   "outputs": [],
   "source": [
    "# TODO\n"
   ]
  },
  {
   "attachments": {},
   "cell_type": "markdown",
   "id": "middle-china",
   "metadata": {},
   "source": [
    "#### Exercise 07. Which is the mean of prices in the population (level5 column) of \"Arroyomolinos (Madrid)\"? (★★☆)\n",
    "\n",
    "Print the obtained value."
   ]
  },
  {
   "cell_type": "code",
   "execution_count": 8,
   "id": "nuclear-belief",
   "metadata": {},
   "outputs": [
    {
     "name": "stdout",
     "output_type": "stream",
     "text": [
      "294541.59854014596\n"
     ]
    }
   ],
   "source": [
    "# TODO\n",
    "ds_arroyomolinos = ds.loc[ds[\"level5\"] == \"Arroyomolinos (Madrid)\"]\n",
    "arroyomolinos_prices = ds_arroyomolinos[\"price\"]\n",
    "arroyomolinos_prices_mean = arroyomolinos_prices.mean()\n",
    "print(arroyomolinos_prices_mean)\n"
   ]
  },
  {
   "attachments": {},
   "cell_type": "markdown",
   "id": "concerned-radical",
   "metadata": {},
   "source": [
    "#### Exercise 08. Plot the histogram of prices for the population (level5 column) of \"Arroyomolinos (Madrid)\" and explain what you observe (★★☆)\n",
    "\n",
    "Print the histogram of the prices and write in the Markdown cell a brief analysis about the plot."
   ]
  },
  {
   "cell_type": "code",
   "execution_count": 9,
   "id": "sudden-message",
   "metadata": {},
   "outputs": [
    {
     "name": "stdout",
     "output_type": "stream",
     "text": [
      "453      165338\n",
      "607      251646\n",
      "613      396000\n",
      "707      225000\n",
      "852      373000\n",
      "          ...  \n",
      "15019    218000\n",
      "15089    230000\n",
      "15091    217000\n",
      "15094    227000\n",
      "15192    462000\n",
      "Name: price, Length: 137, dtype: int64\n"
     ]
    },
    {
     "data": {
      "image/png": "[encoded data removed]",
      "text/plain": [
       "<Figure size 1000x500 with 1 Axes>"
      ]
     },
     "metadata": {},
     "output_type": "display_data"
    }
   ],
   "source": [
    "# TODO: Code\n",
    "import matplotlib.pyplot as plt\n",
    "\n",
    "plt.figure(figsize = (10, 5))\n",
    "arroyomolinos_prices.hist()\n",
    "print(arroyomolinos_prices)\n",
    "\n",
    "plt.title(\"Arroyomolinos (Madrid) Prices\")\n",
    "plt.show()"
   ]
  },
  {
   "attachments": {},
   "cell_type": "markdown",
   "id": "impressed-combination",
   "metadata": {},
   "source": [
    "**TODO: Markdown**. To write here, double-click on this cell, remove this content and place the text you want to write. Then, execute the cell.\n",
    "Como podemos observar en el histograma de precios de la comunidad de \"Arroyomolinos (Madrid)\", se puede observar que la distribución de precios tiende a una distribución parecida a la normal, siendo que la mayor parte de estas viviendas tienen un rango de precios desde los 200000 a los 400000 dls.\n",
    "También, se puede observar que alrededor de los 100000 dls, no hay viviendas con ese precio."
   ]
  },
  {
   "attachments": {},
   "cell_type": "markdown",
   "id": "actual-edinburgh",
   "metadata": {},
   "source": [
    "#### Exercise 09. Are the average prices of \"Valdemorillo\" and \"Galapagar\" the same? (★★☆)\n",
    "\n",
    "Print both average prices and then write a conclusion about them."
   ]
  },
  {
   "cell_type": "code",
   "execution_count": 10,
   "id": "numeric-commerce",
   "metadata": {},
   "outputs": [
    {
     "name": "stdout",
     "output_type": "stream",
     "text": [
      "Valdemorillo prices average: 363860.2931034483 and  Galapagar prices average: 360063.20238095237\n"
     ]
    }
   ],
   "source": [
    "# TODO\n",
    "# Valdemorillo average price\n",
    "ds_valdemorillo = ds.loc[ds[\"level5\"] == \"Valdemorillo\"][\"price\"].mean()\n",
    "ds_galapagar = ds.loc[ds[\"level5\"] == \"Galapagar\"][\"price\"].mean()\n",
    "print(\"Valdemorillo prices average: \" + str(ds_valdemorillo) + \" and \", \"Galapagar prices average: \" + str(ds_galapagar))"
   ]
  },
  {
   "cell_type": "markdown",
   "id": "83ce7a77",
   "metadata": {},
   "source": [
    "Conclusión:\n",
    "De acuerdo a los promedios de los precios en las comunidades de Valdemorillo y Galapar, podemos observar que el promedio de precios es muy parecido entre ambas, variando por muy poco."
   ]
  },
  {
   "attachments": {},
   "cell_type": "markdown",
   "id": "lonely-article",
   "metadata": {},
   "source": [
    "#### Exercise 10. Are the average prices per square meter (price/m2) of \"Valdemorillo\" and \"Galapagar\" the same? (★★☆)\n",
    "\n",
    "Print both average prices and then write a conclusion about it.\n",
    "\n",
    "Hint: Create a new column called `pps` (price per square meter) and then analyze the values."
   ]
  },
  {
   "cell_type": "code",
   "execution_count": 11,
   "id": "4a8107f9",
   "metadata": {},
   "outputs": [
    {
     "name": "stdout",
     "output_type": "stream",
     "text": [
      "Average pps Valdemorillo: 2060.6186462989185 - Average pps Galapagar: 1728.4915523191517\n"
     ]
    }
   ],
   "source": [
    "all_prices_valdemorillo = ds.loc[ds[\"level5\"] == \"Valdemorillo\"][[ \"price\", \"surface\" ]]\n",
    "\n",
    "all_pps_valdemorillo = []\n",
    "for price in all_prices_valdemorillo[\"price\"]:\n",
    "    for surface in all_prices_valdemorillo[\"surface\"]:\n",
    "        pps = price / surface\n",
    "        all_pps_valdemorillo.append(pps)\n",
    "\n",
    "ds[\"pps\"] = pd.Series(all_pps_valdemorillo)\n",
    "\n",
    "all_prices_galapagar = ds.loc[ds[\"level5\"] == \"Galapagar\"][[ \"price\", \"surface\" ]]\n",
    "\n",
    "all_pps_galapagar = []\n",
    "for price in all_prices_galapagar[\"price\"]:\n",
    "    for surface in all_prices_galapagar[\"surface\"]:\n",
    "        pps = price / surface\n",
    "        all_pps_galapagar.append(pps)\n",
    "\n",
    "ds[\"pps\"] = pd.Series(all_pps_galapagar)\n",
    "\n",
    "average_pps_valdemorillo = ds.loc[ds[\"level5\"] == \"Valdemorillo\"][\"pps\"].mean()\n",
    "average_pps_galapagar = ds.loc[ds[\"level5\"] == \"Galapagar\"][\"pps\"].mean()\n",
    "\n",
    "print(f\"Average pps Valdemorillo: {average_pps_valdemorillo} - Average pps Galapagar: {average_pps_galapagar}\")"
   ]
  },
  {
   "cell_type": "markdown",
   "id": "13547c48",
   "metadata": {},
   "source": [
    "Conclusión:\n",
    "Podemos visualizar que el promedio del precio por superficie, no es la misma, tiene una variación considerable una respecto de la otra."
   ]
  },
  {
   "attachments": {},
   "cell_type": "markdown",
   "id": "pleasant-invite",
   "metadata": {},
   "source": [
    "#### Exercise 11. Analyze the relation between the surface and the price of the houses (★★☆)\n",
    "\n",
    "Hint: You can make a `scatter plot`, then write a conclusion about it."
   ]
  },
  {
   "cell_type": "code",
   "execution_count": 52,
   "id": "common-drilling",
   "metadata": {},
   "outputs": [
    {
     "name": "stderr",
     "output_type": "stream",
     "text": [
      "/tmp/ipykernel_1941/1866796001.py:15: UserWarning: No artists with labels found to put in legend.  Note that artists whose label start with an underscore are ignored when legend() is called with no argument.\n",
      "  plt.legend()\n"
     ]
    },
    {
     "data": {
      "image/png": "[encoded data removed]",
      "text/plain": [
       "<Figure size 640x480 with 1 Axes>"
      ]
     },
     "metadata": {},
     "output_type": "display_data"
    }
   ],
   "source": [
    "# TODO: Code\n",
    "\n",
    "x = ds[\"surface\"].fillna(0).to_numpy()\n",
    "y = ds[\"price\"].fillna(0).to_numpy()\n",
    "\n",
    "plt.scatter(x, y, color='blue')\n",
    "\n",
    "plt.xlabel(\"Surface\")\n",
    "plt.ylabel(\"Price\")\n",
    "plt.title(\"Simple Scatter Plot Price/Surface\")\n",
    "\n",
    "plt.xlim(0, 3000)\n",
    "\n",
    "plt.legend()\n",
    "plt.show()"
   ]
  },
  {
   "attachments": {},
   "cell_type": "markdown",
   "id": "ahead-liquid",
   "metadata": {},
   "source": [
    "Conclusión:\n",
    "Al gráficar price/surface, se puede visualizar que los datos sigue una tendencia linear o una regresión lineal, lo que quería decir que entre más surpeficie tengan las casas mayor es su precio en general."
   ]
  },
  {
   "attachments": {},
   "cell_type": "markdown",
   "id": "coordinate-sunrise",
   "metadata": {},
   "source": [
    "#### Exercise 12. How many real estate agencies does the dataset contain? (★★☆)\n",
    "\n",
    "Print the obtained value."
   ]
  },
  {
   "cell_type": "code",
   "execution_count": 14,
   "id": "valid-honolulu",
   "metadata": {},
   "outputs": [
    {
     "name": "stdout",
     "output_type": "stream",
     "text": [
      "Number of real estate agencies: 1821\n"
     ]
    }
   ],
   "source": [
    "# TODO\n",
    "real_estate_agencies_count = ds[\"realEstate_name\"].value_counts().size\n",
    "print(f\"Number of real estate agencies: {real_estate_agencies_count}\")"
   ]
  },
  {
   "attachments": {},
   "cell_type": "markdown",
   "id": "binding-ebony",
   "metadata": {},
   "source": [
    "#### Exercise 13. Which is the population (level5 column) that contains the most houses? (★★☆)\n",
    "\n",
    "Print both the population and the number of houses."
   ]
  },
  {
   "cell_type": "code",
   "execution_count": 15,
   "id": "static-perry",
   "metadata": {},
   "outputs": [
    {
     "name": "stdout",
     "output_type": "stream",
     "text": [
      "La poblración con más casas es  Madrid Capital con 6643 casas\n"
     ]
    }
   ],
   "source": [
    "# TODO\n",
    "population_with_most_houses = ds[\"level5\"].value_counts()\n",
    "print(f\"La poblración con más casas es {population_with_most_houses.idxmax()} con {population_with_most_houses.max()} casas\")"
   ]
  },
  {
   "attachments": {},
   "cell_type": "markdown",
   "id": "entire-classification",
   "metadata": {},
   "source": [
    "#### Exercise 14. Now let's work with the \"south belt\" of Madrid. Make a subset of the original DataFrame that contains the following populations (level5 column): \"Fuenlabrada\", \"Leganés\", \"Getafe\", \"Alcorcón\" (★★☆)\n",
    "\n",
    "Hint: Filter the original DataFrame using the column `level5` and the function `isin`."
   ]
  },
  {
   "cell_type": "code",
   "execution_count": 16,
   "id": "binary-input",
   "metadata": {},
   "outputs": [
    {
     "data": {
      "text/html": [
       "<div>\n",
       "<style scoped>\n",
       "    .dataframe tbody tr th:only-of-type {\n",
       "        vertical-align: middle;\n",
       "    }\n",
       "\n",
       "    .dataframe tbody tr th {\n",
       "        vertical-align: top;\n",
       "    }\n",
       "\n",
       "    .dataframe thead th {\n",
       "        text-align: right;\n",
       "    }\n",
       "</style>\n",
       "<table border=\"1\" class=\"dataframe\">\n",
       "  <thead>\n",
       "    <tr style=\"text-align: right;\">\n",
       "      <th></th>\n",
       "      <th>Unnamed: 0</th>\n",
       "      <th>id_realEstates</th>\n",
       "      <th>isNew</th>\n",
       "      <th>realEstate_name</th>\n",
       "      <th>phone_realEstate</th>\n",
       "      <th>url_inmueble</th>\n",
       "      <th>rooms</th>\n",
       "      <th>bathrooms</th>\n",
       "      <th>surface</th>\n",
       "      <th>price</th>\n",
       "      <th>...</th>\n",
       "      <th>level5Id</th>\n",
       "      <th>level6Id</th>\n",
       "      <th>level7Id</th>\n",
       "      <th>level8Id</th>\n",
       "      <th>accuracy</th>\n",
       "      <th>latitude</th>\n",
       "      <th>longitude</th>\n",
       "      <th>zipCode</th>\n",
       "      <th>customZone</th>\n",
       "      <th>pps</th>\n",
       "    </tr>\n",
       "  </thead>\n",
       "  <tbody>\n",
       "    <tr>\n",
       "      <th>1</th>\n",
       "      <td>2</td>\n",
       "      <td>153867863</td>\n",
       "      <td>False</td>\n",
       "      <td>tecnocasa fuenlabrada ferrocarril</td>\n",
       "      <td>916358736.0</td>\n",
       "      <td>https://www.fotocasa.es/es/comprar/vivienda/ma...</td>\n",
       "      <td>3.0</td>\n",
       "      <td>1.0</td>\n",
       "      <td>NaN</td>\n",
       "      <td>89000</td>\n",
       "      <td>...</td>\n",
       "      <td>0</td>\n",
       "      <td>0</td>\n",
       "      <td>0</td>\n",
       "      <td>0</td>\n",
       "      <td>1</td>\n",
       "      <td>40,28674</td>\n",
       "      <td>-3,79351</td>\n",
       "      <td>NaN</td>\n",
       "      <td>NaN</td>\n",
       "      <td>1996.250000</td>\n",
       "    </tr>\n",
       "    <tr>\n",
       "      <th>3</th>\n",
       "      <td>4</td>\n",
       "      <td>152776331</td>\n",
       "      <td>False</td>\n",
       "      <td>tecnocasa fuenlabrada ferrocarril</td>\n",
       "      <td>916358736.0</td>\n",
       "      <td>https://www.fotocasa.es/es/comprar/vivienda/ma...</td>\n",
       "      <td>3.0</td>\n",
       "      <td>1.0</td>\n",
       "      <td>86.0</td>\n",
       "      <td>89000</td>\n",
       "      <td>...</td>\n",
       "      <td>0</td>\n",
       "      <td>0</td>\n",
       "      <td>0</td>\n",
       "      <td>0</td>\n",
       "      <td>0</td>\n",
       "      <td>40,2853785786438</td>\n",
       "      <td>-3,79508142135624</td>\n",
       "      <td>NaN</td>\n",
       "      <td>NaN</td>\n",
       "      <td>3327.083333</td>\n",
       "    </tr>\n",
       "    <tr>\n",
       "      <th>85</th>\n",
       "      <td>86</td>\n",
       "      <td>153152077</td>\n",
       "      <td>False</td>\n",
       "      <td>sinergical inmobiliaria</td>\n",
       "      <td>NaN</td>\n",
       "      <td>https://www.fotocasa.es/es/comprar/vivienda/le...</td>\n",
       "      <td>1.0</td>\n",
       "      <td>1.0</td>\n",
       "      <td>50.0</td>\n",
       "      <td>107000</td>\n",
       "      <td>...</td>\n",
       "      <td>0</td>\n",
       "      <td>0</td>\n",
       "      <td>0</td>\n",
       "      <td>0</td>\n",
       "      <td>1</td>\n",
       "      <td>40,35059</td>\n",
       "      <td>-3,82693</td>\n",
       "      <td>NaN</td>\n",
       "      <td>NaN</td>\n",
       "      <td>1050.000000</td>\n",
       "    </tr>\n",
       "    <tr>\n",
       "      <th>94</th>\n",
       "      <td>95</td>\n",
       "      <td>153995577</td>\n",
       "      <td>False</td>\n",
       "      <td>viviendas365com</td>\n",
       "      <td>911226014.0</td>\n",
       "      <td>https://www.fotocasa.es/es/comprar/vivienda/le...</td>\n",
       "      <td>3.0</td>\n",
       "      <td>2.0</td>\n",
       "      <td>120.0</td>\n",
       "      <td>320000</td>\n",
       "      <td>...</td>\n",
       "      <td>0</td>\n",
       "      <td>0</td>\n",
       "      <td>0</td>\n",
       "      <td>0</td>\n",
       "      <td>0</td>\n",
       "      <td>40,31933</td>\n",
       "      <td>-3,77574</td>\n",
       "      <td>NaN</td>\n",
       "      <td>NaN</td>\n",
       "      <td>1400.000000</td>\n",
       "    </tr>\n",
       "    <tr>\n",
       "      <th>109</th>\n",
       "      <td>110</td>\n",
       "      <td>153586414</td>\n",
       "      <td>False</td>\n",
       "      <td>area uno asesores inmobiliarios</td>\n",
       "      <td>912664081.0</td>\n",
       "      <td>https://www.fotocasa.es/es/comprar/vivienda/ma...</td>\n",
       "      <td>3.0</td>\n",
       "      <td>3.0</td>\n",
       "      <td>142.0</td>\n",
       "      <td>425000</td>\n",
       "      <td>...</td>\n",
       "      <td>0</td>\n",
       "      <td>0</td>\n",
       "      <td>0</td>\n",
       "      <td>0</td>\n",
       "      <td>0</td>\n",
       "      <td>40,3313411</td>\n",
       "      <td>-3,8313868</td>\n",
       "      <td>NaN</td>\n",
       "      <td>NaN</td>\n",
       "      <td>1680.000000</td>\n",
       "    </tr>\n",
       "    <tr>\n",
       "      <th>...</th>\n",
       "      <td>...</td>\n",
       "      <td>...</td>\n",
       "      <td>...</td>\n",
       "      <td>...</td>\n",
       "      <td>...</td>\n",
       "      <td>...</td>\n",
       "      <td>...</td>\n",
       "      <td>...</td>\n",
       "      <td>...</td>\n",
       "      <td>...</td>\n",
       "      <td>...</td>\n",
       "      <td>...</td>\n",
       "      <td>...</td>\n",
       "      <td>...</td>\n",
       "      <td>...</td>\n",
       "      <td>...</td>\n",
       "      <td>...</td>\n",
       "      <td>...</td>\n",
       "      <td>...</td>\n",
       "      <td>...</td>\n",
       "      <td>...</td>\n",
       "    </tr>\n",
       "    <tr>\n",
       "      <th>15275</th>\n",
       "      <td>15276</td>\n",
       "      <td>153903887</td>\n",
       "      <td>False</td>\n",
       "      <td>aliseda servicios de gestion inmobiliaria</td>\n",
       "      <td>911368198.0</td>\n",
       "      <td>https://www.fotocasa.es/es/comprar/vivienda/al...</td>\n",
       "      <td>3.0</td>\n",
       "      <td>1.0</td>\n",
       "      <td>78.0</td>\n",
       "      <td>138000</td>\n",
       "      <td>...</td>\n",
       "      <td>0</td>\n",
       "      <td>0</td>\n",
       "      <td>0</td>\n",
       "      <td>0</td>\n",
       "      <td>1</td>\n",
       "      <td>40,31381</td>\n",
       "      <td>-3,83733</td>\n",
       "      <td>NaN</td>\n",
       "      <td>NaN</td>\n",
       "      <td>NaN</td>\n",
       "    </tr>\n",
       "    <tr>\n",
       "      <th>15291</th>\n",
       "      <td>15292</td>\n",
       "      <td>151697757</td>\n",
       "      <td>False</td>\n",
       "      <td>unipiso</td>\n",
       "      <td>912788631.0</td>\n",
       "      <td>https://www.fotocasa.es/es/comprar/vivienda/al...</td>\n",
       "      <td>3.0</td>\n",
       "      <td>2.0</td>\n",
       "      <td>110.0</td>\n",
       "      <td>279000</td>\n",
       "      <td>...</td>\n",
       "      <td>0</td>\n",
       "      <td>0</td>\n",
       "      <td>0</td>\n",
       "      <td>0</td>\n",
       "      <td>0</td>\n",
       "      <td>40,3259051</td>\n",
       "      <td>-3,76318</td>\n",
       "      <td>NaN</td>\n",
       "      <td>NaN</td>\n",
       "      <td>NaN</td>\n",
       "    </tr>\n",
       "    <tr>\n",
       "      <th>15305</th>\n",
       "      <td>15306</td>\n",
       "      <td>153902389</td>\n",
       "      <td>False</td>\n",
       "      <td>jadein ferrero</td>\n",
       "      <td>914871639.0</td>\n",
       "      <td>https://www.fotocasa.es/es/comprar/vivienda/ma...</td>\n",
       "      <td>3.0</td>\n",
       "      <td>2.0</td>\n",
       "      <td>85.0</td>\n",
       "      <td>170000</td>\n",
       "      <td>...</td>\n",
       "      <td>0</td>\n",
       "      <td>0</td>\n",
       "      <td>0</td>\n",
       "      <td>0</td>\n",
       "      <td>0</td>\n",
       "      <td>40,2882193</td>\n",
       "      <td>-3,8098617</td>\n",
       "      <td>NaN</td>\n",
       "      <td>NaN</td>\n",
       "      <td>NaN</td>\n",
       "    </tr>\n",
       "    <tr>\n",
       "      <th>15322</th>\n",
       "      <td>15323</td>\n",
       "      <td>153871864</td>\n",
       "      <td>False</td>\n",
       "      <td>gestion comercial</td>\n",
       "      <td>911220662.0</td>\n",
       "      <td>https://www.fotocasa.es/es/comprar/vivienda/ma...</td>\n",
       "      <td>3.0</td>\n",
       "      <td>1.0</td>\n",
       "      <td>91.0</td>\n",
       "      <td>112000</td>\n",
       "      <td>...</td>\n",
       "      <td>0</td>\n",
       "      <td>0</td>\n",
       "      <td>0</td>\n",
       "      <td>0</td>\n",
       "      <td>0</td>\n",
       "      <td>40,28282</td>\n",
       "      <td>-3,78892</td>\n",
       "      <td>NaN</td>\n",
       "      <td>NaN</td>\n",
       "      <td>NaN</td>\n",
       "    </tr>\n",
       "    <tr>\n",
       "      <th>15325</th>\n",
       "      <td>15326</td>\n",
       "      <td>153901467</td>\n",
       "      <td>False</td>\n",
       "      <td>montehogar 68</td>\n",
       "      <td>911790675.0</td>\n",
       "      <td>https://www.fotocasa.es/es/comprar/vivienda/ma...</td>\n",
       "      <td>2.0</td>\n",
       "      <td>2.0</td>\n",
       "      <td>99.0</td>\n",
       "      <td>215000</td>\n",
       "      <td>...</td>\n",
       "      <td>0</td>\n",
       "      <td>0</td>\n",
       "      <td>0</td>\n",
       "      <td>0</td>\n",
       "      <td>1</td>\n",
       "      <td>40,28062</td>\n",
       "      <td>-3,79869</td>\n",
       "      <td>NaN</td>\n",
       "      <td>NaN</td>\n",
       "      <td>NaN</td>\n",
       "    </tr>\n",
       "  </tbody>\n",
       "</table>\n",
       "<p>907 rows × 38 columns</p>\n",
       "</div>"
      ],
      "text/plain": [
       "       Unnamed: 0  id_realEstates  isNew  \\\n",
       "1               2       153867863  False   \n",
       "3               4       152776331  False   \n",
       "85             86       153152077  False   \n",
       "94             95       153995577  False   \n",
       "109           110       153586414  False   \n",
       "...           ...             ...    ...   \n",
       "15275       15276       153903887  False   \n",
       "15291       15292       151697757  False   \n",
       "15305       15306       153902389  False   \n",
       "15322       15323       153871864  False   \n",
       "15325       15326       153901467  False   \n",
       "\n",
       "                                 realEstate_name  phone_realEstate  \\\n",
       "1              tecnocasa fuenlabrada ferrocarril       916358736.0   \n",
       "3              tecnocasa fuenlabrada ferrocarril       916358736.0   \n",
       "85                       sinergical inmobiliaria               NaN   \n",
       "94                               viviendas365com       911226014.0   \n",
       "109              area uno asesores inmobiliarios       912664081.0   \n",
       "...                                          ...               ...   \n",
       "15275  aliseda servicios de gestion inmobiliaria       911368198.0   \n",
       "15291                                    unipiso       912788631.0   \n",
       "15305                             jadein ferrero       914871639.0   \n",
       "15322                          gestion comercial       911220662.0   \n",
       "15325                              montehogar 68       911790675.0   \n",
       "\n",
       "                                            url_inmueble  rooms  bathrooms  \\\n",
       "1      https://www.fotocasa.es/es/comprar/vivienda/ma...    3.0        1.0   \n",
       "3      https://www.fotocasa.es/es/comprar/vivienda/ma...    3.0        1.0   \n",
       "85     https://www.fotocasa.es/es/comprar/vivienda/le...    1.0        1.0   \n",
       "94     https://www.fotocasa.es/es/comprar/vivienda/le...    3.0        2.0   \n",
       "109    https://www.fotocasa.es/es/comprar/vivienda/ma...    3.0        3.0   \n",
       "...                                                  ...    ...        ...   \n",
       "15275  https://www.fotocasa.es/es/comprar/vivienda/al...    3.0        1.0   \n",
       "15291  https://www.fotocasa.es/es/comprar/vivienda/al...    3.0        2.0   \n",
       "15305  https://www.fotocasa.es/es/comprar/vivienda/ma...    3.0        2.0   \n",
       "15322  https://www.fotocasa.es/es/comprar/vivienda/ma...    3.0        1.0   \n",
       "15325  https://www.fotocasa.es/es/comprar/vivienda/ma...    2.0        2.0   \n",
       "\n",
       "       surface   price  ... level5Id level6Id level7Id level8Id accuracy  \\\n",
       "1          NaN   89000  ...        0        0        0        0        1   \n",
       "3         86.0   89000  ...        0        0        0        0        0   \n",
       "85        50.0  107000  ...        0        0        0        0        1   \n",
       "94       120.0  320000  ...        0        0        0        0        0   \n",
       "109      142.0  425000  ...        0        0        0        0        0   \n",
       "...        ...     ...  ...      ...      ...      ...      ...      ...   \n",
       "15275     78.0  138000  ...        0        0        0        0        1   \n",
       "15291    110.0  279000  ...        0        0        0        0        0   \n",
       "15305     85.0  170000  ...        0        0        0        0        0   \n",
       "15322     91.0  112000  ...        0        0        0        0        0   \n",
       "15325     99.0  215000  ...        0        0        0        0        1   \n",
       "\n",
       "               latitude          longitude zipCode customZone          pps  \n",
       "1              40,28674           -3,79351     NaN        NaN  1996.250000  \n",
       "3      40,2853785786438  -3,79508142135624     NaN        NaN  3327.083333  \n",
       "85             40,35059           -3,82693     NaN        NaN  1050.000000  \n",
       "94             40,31933           -3,77574     NaN        NaN  1400.000000  \n",
       "109          40,3313411         -3,8313868     NaN        NaN  1680.000000  \n",
       "...                 ...                ...     ...        ...          ...  \n",
       "15275          40,31381           -3,83733     NaN        NaN          NaN  \n",
       "15291        40,3259051           -3,76318     NaN        NaN          NaN  \n",
       "15305        40,2882193         -3,8098617     NaN        NaN          NaN  \n",
       "15322          40,28282           -3,78892     NaN        NaN          NaN  \n",
       "15325          40,28062           -3,79869     NaN        NaN          NaN  \n",
       "\n",
       "[907 rows x 38 columns]"
      ]
     },
     "execution_count": 16,
     "metadata": {},
     "output_type": "execute_result"
    }
   ],
   "source": [
    "# TODO\n",
    "population_south_belt = ds[\"level5\"].isin([\"Fuenlabrada\", \"Leganés\", \"Getafe\", \"Alcorcón\"])\n",
    "sb_populations = ds[population_south_belt]\n",
    "sb_populations"
   ]
  },
  {
   "attachments": {},
   "cell_type": "markdown",
   "id": "severe-fisher",
   "metadata": {},
   "source": [
    "#### Exercise 15. Make a bar plot of the median of the prices and explain what you observe (you must use the subset obtained in Exercise 14) (★★★)\n",
    "\n",
    "Print the bar of the median of the prices and write in the Markdown cell a brief analysis about the plot."
   ]
  },
  {
   "cell_type": "code",
   "execution_count": null,
   "id": "5586cd67",
   "metadata": {},
   "outputs": [],
   "source": [
    "# Average price populations\n",
    "pfp = sb_populations.loc[sb_populations[\"level5\"] == \"Fuenlabrada\"][\"price\"].mean()\n",
    "plp = sb_populations.loc[sb_populations[\"level5\"] == \"Leganés\"][\"price\"].mean()\n",
    "pgp = sb_populations.loc[sb_populations[\"level5\"] == \"Getafe\"][\"price\"].mean()\n",
    "pap = sb_populations.loc[sb_populations[\"level5\"] == \"Alcorcón\"][\"price\"].mean()"
   ]
  },
  {
   "cell_type": "code",
   "execution_count": 71,
   "id": "lyric-bunch",
   "metadata": {},
   "outputs": [
    {
     "data": {
      "image/png": "[encoded data removed]",
      "text/plain": [
       "<Figure size 640x480 with 1 Axes>"
      ]
     },
     "metadata": {},
     "output_type": "display_data"
    }
   ],
   "source": [
    "# TODO: Code\n",
    "\n",
    "fig, ax = plt.subplots()\n",
    "\n",
    "label_price_mean = ['Fuenlabrada', 'Leganés', 'Getafe', 'Alcorcón']\n",
    "counts = [pfp, plp, pgp, pap]\n",
    "bar_labels = ['Fuenlabrada', 'Leganés', 'Getafe', 'Alcorcón']\n",
    "bar_colors = ['green', 'pink', 'blue', 'purple']\n",
    "\n",
    "ax.bar(label_price_mean, counts, label=bar_labels, color=bar_colors)\n",
    "\n",
    "ax.set_xlabel('Populations')\n",
    "ax.set_ylabel('Price mean (eur)')\n",
    "ax.set_title('South belt price mean')\n",
    "ax.legend(title='Price mean color')\n",
    "\n",
    "plt.show()\n"
   ]
  },
  {
   "attachments": {},
   "cell_type": "markdown",
   "id": "sublime-newspaper",
   "metadata": {},
   "source": [
    "Análisis de la gráfica: Como se oberva en la gráfica, el promedio de precios más sobresaliente es de la comunidad de Gerafe, mientras qye los precios más bajos se encuentran en la comunidad de Fuenlabrada."
   ]
  },
  {
   "attachments": {},
   "cell_type": "markdown",
   "id": "speaking-diamond",
   "metadata": {},
   "source": [
    "#### Exercise 16. Calculate the sample mean and variance of the variables: price, rooms, surface area and bathrooms (you must use the subset obtained in Exercise 14) (★★★)\n",
    "\n",
    "Print both values for each variable."
   ]
  },
  {
   "cell_type": "code",
   "execution_count": 72,
   "id": "random-feeling",
   "metadata": {},
   "outputs": [
    {
     "name": "stdout",
     "output_type": "stream",
     "text": [
      "223094.48070562293 14921367508.04902\n",
      "3.0177383592017737 0.7188858892927542\n",
      "111.75222363405337 4263.051760316337\n",
      "1.633221850613155 0.5717968625577321\n"
     ]
    }
   ],
   "source": [
    "# TODO\n",
    "# Prices variance\n",
    "sb_price_mean = sb_populations[\"price\"].mean()\n",
    "sb_prices_var = sb_populations[\"price\"].var()\n",
    "print(sb_price_mean, sb_prices_var)\n",
    "\n",
    "# Rooms sample mean and variance\n",
    "sb_rooms_mean = sb_populations[\"rooms\"].mean()\n",
    "sb_rooms_var = sb_populations[\"rooms\"].var()\n",
    "print(sb_rooms_mean, sb_rooms_var)\n",
    "\n",
    "# Surface sample mean and variance\n",
    "sb_surface_area_mean = sb_populations[\"surface\"].mean()\n",
    "sb_surface_area_var = sb_populations[\"surface\"].var()\n",
    "print(sb_surface_area_mean, sb_surface_area_var)\n",
    "\n",
    "# Bathrooms sample mean and variance\n",
    "sb_bathrooms_mean = sb_populations[\"bathrooms\"].mean()\n",
    "sb_bathrooms_var = sb_populations[\"bathrooms\"].var()\n",
    "print(sb_bathrooms_mean, sb_bathrooms_var)"
   ]
  },
  {
   "attachments": {},
   "cell_type": "markdown",
   "id": "revolutionary-matrix",
   "metadata": {},
   "source": [
    "#### Exercise 17. What is the most expensive house in each population? You must use the subset obtained in Exercise 14 (★★☆)\n",
    "\n",
    "Print both the address and the price of the selected house of each population. You can print a DataFrame or a single line for each population."
   ]
  },
  {
   "cell_type": "code",
   "execution_count": 19,
   "id": "fifteen-browse",
   "metadata": {},
   "outputs": [
    {
     "name": "stdout",
     "output_type": "stream",
     "text": [
      "La casa más cara de Fuenlabrada cuesta 490000 y se ubica en 11561    Calle de Paulo Freire, 5, Fuenlabrada\n",
      "Name: address, dtype: object\n",
      "La casa más cara de Leganés cuesta 650000 y se ubica en 10412    Avenida Reina Sofía, Leganés\n",
      "Name: address, dtype: object\n",
      "La casa más cara de Getafe cuesta 1050000 y se ubica en 2881    Getafe\n",
      "Name: address, dtype: object\n",
      "La casa más cara de Alcorcón cuesta 950000 y se ubica en 5585    Alcorcón\n",
      "Name: address, dtype: object\n"
     ]
    }
   ],
   "source": [
    "# TODO\n",
    "# Most expensive house in \"Fuenlabrada\", \"Leganés\", \"Getafe\", \"Alcorcón\"\n",
    "def get_most_expensive_house(population):\n",
    "    max_price = sb_populations[sb_populations[\"level5\"] == population][\"price\"].max()\n",
    "    max_price_address = sb_populations[sb_populations[\"price\"] == max_price].address\n",
    "    print(f\"La casa más cara de {population} cuesta {max_price} y se ubica en {max_price_address}\")\n",
    "\n",
    "get_most_expensive_house(\"Fuenlabrada\")\n",
    "get_most_expensive_house(\"Leganés\")\n",
    "get_most_expensive_house(\"Getafe\")\n",
    "get_most_expensive_house(\"Alcorcón\")\n",
    " \n"
   ]
  },
  {
   "attachments": {},
   "cell_type": "markdown",
   "id": "activated-knight",
   "metadata": {},
   "source": [
    "#### Exercise 18. Normalize the variable of prices for each population and plot the 4 histograms in the same plot (you must use the subset obtained in Exercise 14) (★★★)\n",
    "\n",
    "For the normalization method, you can use the one you consider; there is not a single correct answer to this question. Print the plot and write in the Markdown cell a brief analysis about the plot.\n",
    "\n",
    "Hint: You can help yourself by reviewing the *multihist* demo of Matplotlib."
   ]
  },
  {
   "cell_type": "code",
   "execution_count": 20,
   "id": "civic-meditation",
   "metadata": {},
   "outputs": [
    {
     "data": {
      "image/png": "[encoded data removed]",
      "text/plain": [
       "<Figure size 640x480 with 1 Axes>"
      ]
     },
     "metadata": {},
     "output_type": "display_data"
    }
   ],
   "source": [
    "# TODO\n",
    "# copy the data \n",
    "df_min_max_scaled = sb_populations[sb_populations[\"level5\"] == \"Fuenlabrada\"].copy() \n",
    "leganes_min_max_scaled = sb_populations[sb_populations[\"level5\"] == \"Leganés\"].copy() \n",
    "getafe_min_max_scaled = sb_populations[sb_populations[\"level5\"] == \"Getafe\"].copy() \n",
    "alcorcon_min_max_scaled = sb_populations[sb_populations[\"level5\"] == \"Alcorcón\"].copy() \n",
    "\n",
    "# Normalize data \n",
    "df_min_max_scaled[\"price\"] = (df_min_max_scaled[\"price\"] - df_min_max_scaled[\"price\"].min()) / (df_min_max_scaled[\"price\"].max() - df_min_max_scaled[\"price\"].min())     \n",
    "leganes_min_max_scaled[\"price\"] = (leganes_min_max_scaled[\"price\"] - leganes_min_max_scaled[\"price\"].min()) / (leganes_min_max_scaled[\"price\"].max() - leganes_min_max_scaled[\"price\"].min()) \n",
    "getafe_min_max_scaled[\"price\"] = (getafe_min_max_scaled[\"price\"] - getafe_min_max_scaled[\"price\"].min()) / (getafe_min_max_scaled[\"price\"].max() - getafe_min_max_scaled[\"price\"].min())\n",
    "alcorcon_min_max_scaled[\"price\"] = (alcorcon_min_max_scaled[\"price\"] - alcorcon_min_max_scaled[\"price\"].min()) / (alcorcon_min_max_scaled[\"price\"].max() - alcorcon_min_max_scaled[\"price\"].min())  \n",
    "\n",
    "\n",
    "plt.hist(df_min_max_scaled[\"price\"], bins=30, alpha=0.5, label='Fuenlabrada')\n",
    "plt.hist(leganes_min_max_scaled[\"price\"], bins=30, alpha=0.5, label='Leganés')\n",
    "plt.hist(getafe_min_max_scaled[\"price\"], bins=30, alpha=0.5, label='Getafe')\n",
    "plt.hist(alcorcon_min_max_scaled[\"price\"], bins=30, alpha=0.5, label='Alcorcón')\n",
    "\n",
    "# Adding labels and title\n",
    "plt.xlabel('Precio')\n",
    "plt.ylabel('Frequency')\n",
    "plt.title('SB population prices')\n",
    "\n",
    "# Adding legend\n",
    "plt.legend(loc='upper right')\n",
    "\n",
    "# Display the plot\n",
    "plt.show()"
   ]
  },
  {
   "attachments": {},
   "cell_type": "markdown",
   "id": "precise-heavy",
   "metadata": {},
   "source": [
    "**TODO: Markdown**. To write here, double-click on this cell, remove this content and place the text you want to write. Then, execute the cell."
   ]
  },
  {
   "attachments": {},
   "cell_type": "markdown",
   "id": "patent-jonathan",
   "metadata": {},
   "source": [
    "#### Exercise 19. What can you say about the price per square meter (price/m2) between the towns of \"Getafe\" and \"Alcorcón\"? You must use the subset obtained in Exercise 14 (★★☆)\n",
    "\n",
    "Hint: Create a new column called `pps` (price per square meter) and then analyze the values."
   ]
  },
  {
   "cell_type": "code",
   "execution_count": 81,
   "id": "initial-liverpool",
   "metadata": {},
   "outputs": [
    {
     "name": "stderr",
     "output_type": "stream",
     "text": [
      "/tmp/ipykernel_1941/4085659476.py:9: SettingWithCopyWarning: \n",
      "A value is trying to be set on a copy of a slice from a DataFrame.\n",
      "Try using .loc[row_indexer,col_indexer] = value instead\n",
      "\n",
      "See the caveats in the documentation: https://pandas.pydata.org/pandas-docs/stable/user_guide/indexing.html#returning-a-view-versus-a-copy\n",
      "  sb_populations[\"pps\"] = pd.Series(ga_pps)\n"
     ]
    }
   ],
   "source": [
    "# TODO\n",
    "ga_pps = []\n",
    "ga_prices = sb_populations.loc[(sb_populations[\"level5\"] == \"Getafe\") | (sb_populations[\"level5\"] == \"Alcorcón\")].price\n",
    "ga_surfaces = sb_populations.loc[(sb_populations[\"level5\"] == \"Getafe\") | (sb_populations[\"level5\"] == \"Alcorcón\")].surface\n",
    "for price in ga_prices:\n",
    "    for surface in ga_surfaces:\n",
    "        pps = price / surface\n",
    "        ga_pps.append(pps)\n",
    "sb_populations[\"pps\"] = pd.Series(ga_pps)"
   ]
  },
  {
   "cell_type": "code",
   "execution_count": null,
   "id": "3d907b32",
   "metadata": {},
   "outputs": [],
   "source": [
    "# Se obtiene los promedios  de price/m2 para facilitar el análisis\n",
    "psg = sb_populations.loc[(sb_populations[\"level5\"] == \"Getafe\")][\"pps\"].mean()\n",
    "psa = sb_populations.loc[(sb_populations[\"level5\"] == \"Alcorcón\")][\"pps\"].mean()\n"
   ]
  },
  {
   "cell_type": "code",
   "execution_count": 80,
   "id": "9d2de800",
   "metadata": {},
   "outputs": [
    {
     "data": {
      "image/png": "[encoded data removed]",
      "text/plain": [
       "<Figure size 640x480 with 1 Axes>"
      ]
     },
     "metadata": {},
     "output_type": "display_data"
    }
   ],
   "source": [
    "# Se hará una gráfica para poder analizar los resultados\n",
    "fig, ax = plt.subplots()\n",
    "\n",
    "label_price_mean = ['Getafe', 'Alcorcón']\n",
    "counts = [psg, psa]\n",
    "bar_labels = ['Getafe', 'Alcorcón']\n",
    "bar_colors = ['green', 'pink']\n",
    "\n",
    "ax.bar(label_price_mean, counts, label=bar_labels, color=bar_colors)\n",
    "\n",
    "ax.set_xlabel('Populations')\n",
    "ax.set_ylabel('Price/m2')\n",
    "ax.set_title('Square meter')\n",
    "ax.legend(title='Price mean color')\n",
    "\n",
    "plt.show()"
   ]
  },
  {
   "cell_type": "markdown",
   "id": "a962060c",
   "metadata": {},
   "source": [
    "Análisis de la gráfica:\n",
    "Como se observa en la gráfica, el promedio de precios sobre metros cuadrados de ambas comunidades es muy parecido."
   ]
  },
  {
   "attachments": {},
   "cell_type": "markdown",
   "id": "enhanced-moscow",
   "metadata": {},
   "source": [
    "#### Exercise 20. Make the same plot for 4 different populations (level5 column) and rearrange them on the same graph. You must use the subset obtained in Exercise 14 (★★☆)\n",
    " \n",
    "Hint: Make a scatter plot of each population using subplots."
   ]
  },
  {
   "cell_type": "code",
   "execution_count": 105,
   "id": "e1ebb3e3",
   "metadata": {},
   "outputs": [],
   "source": [
    "x1 = sb_populations.loc[(sb_populations[\"level5\"] == \"Fuenlabrada\")][\"price\"].to_numpy()\n",
    "y1 = sb_populations.loc[(sb_populations[\"level5\"] == \"Fuenlabrada\")][\"surface\"].to_numpy()\n",
    "x2 = sb_populations.loc[(sb_populations[\"level5\"] == \"Leganés\")][\"price\"].to_numpy()\n",
    "y2 = sb_populations.loc[(sb_populations[\"level5\"] == \"Leganés\")][\"surface\"].to_numpy()\n",
    "x3 = sb_populations.loc[(sb_populations[\"level5\"] == \"Getafe\")][\"price\"].to_numpy()\n",
    "y3 = sb_populations.loc[(sb_populations[\"level5\"] == \"Getafe\")][\"surface\"].to_numpy()\n",
    "x4 = sb_populations.loc[(sb_populations[\"level5\"] == \"Alcorcón\")][\"price\"].to_numpy()\n",
    "y4 = sb_populations.loc[(sb_populations[\"level5\"] == \"Alcorcón\")][\"surface\"].to_numpy()"
   ]
  },
  {
   "cell_type": "code",
   "execution_count": 118,
   "id": "accepting-airfare",
   "metadata": {},
   "outputs": [
    {
     "data": {
      "image/png": "[encoded data removed]",
      "text/plain": [
       "<Figure size 1000x800 with 4 Axes>"
      ]
     },
     "metadata": {},
     "output_type": "display_data"
    }
   ],
   "source": [
    "# # TODO\n",
    "# Crear figura y subplots\n",
    "fig, axs = plt.subplots(2, 2, figsize=(10, 8))\n",
    "\n",
    "axs[0, 0].scatter(x1, y1, color='blue')\n",
    "axs[0, 0].set_title('Fuenlabrada')\n",
    "axs[0, 0].set_xlabel('Surface')\n",
    "axs[0, 0].set_ylabel('Price')\n",
    "\n",
    "axs[0, 1].scatter(x2, y2, color='green')\n",
    "axs[0, 1].set_title('Leganés')\n",
    "axs[0, 1].set_xlabel('Surface')\n",
    "axs[0, 1].set_ylabel('Price')\n",
    "\n",
    "axs[1, 0].scatter(x3, y3, color='red')\n",
    "axs[1, 0].set_title('Getafe')\n",
    "axs[1, 0].set_xlabel('Surface')\n",
    "axs[1, 0].set_ylabel('Price')\n",
    "\n",
    "axs[1, 1].scatter(x4, y4, color='purple')\n",
    "axs[1, 1].set_title('Alcorcón')\n",
    "axs[1, 1].set_xlabel('Surface')\n",
    "axs[1, 1].set_ylabel('Price')\n",
    "\n",
    "plt.tight_layout()\n",
    "plt.show()"
   ]
  },
  {
   "cell_type": "code",
   "execution_count": null,
   "id": "d8be0042",
   "metadata": {},
   "outputs": [
    {
     "data": {
      "image/png": "[encoded data removed]",
      "text/plain": [
       "<Figure size 640x480 with 1 Axes>"
      ]
     },
     "metadata": {},
     "output_type": "display_data"
    }
   ],
   "source": [
    "# Para gráficar en el mismo scatter plot las 4 comunidades\n",
    "plt.scatter(x1, y1, color='blue', label='Fuenlabrada')\n",
    "plt.scatter(x2, y2, color='green', label='Leganés')\n",
    "plt.scatter(x3, y3, color='red', label='Getafe')\n",
    "plt.scatter(x4, y4, color='purple', label='Alcorcón')\n",
    "\n",
    "plt.xlabel('Surface')\n",
    "plt.ylabel('Price')\n",
    "plt.title('South belt price/surface')\n",
    "plt.legend()\n",
    "plt.grid(True)\n",
    "plt.tight_layout()\n",
    "plt.show()"
   ]
  },
  {
   "attachments": {},
   "cell_type": "markdown",
   "id": "blocked-effects",
   "metadata": {},
   "source": [
    "#### Exercise 21. Make a plot of the coordinates (latitude and longitude columns) of the south belt of Madrid by color of each population (you must use the subset obtained in Exercise 14) (★★★★)\n",
    "\n",
    "Execute the following cell, and then start coding in the next one. You must implement a simple code that transforms the coordinates columns in a Python dictionary (add more information if needed) and then add it to the map"
   ]
  },
  {
   "cell_type": "code",
   "execution_count": 23,
   "id": "headed-privacy",
   "metadata": {},
   "outputs": [
    {
     "data": {
      "application/vnd.jupyter.widget-view+json": {
       "model_id": "c7c2424cc41b4b95a65e06a78cbe72df",
       "version_major": 2,
       "version_minor": 0
      },
      "text/plain": [
       "Map(center=[40.35, -3.8], controls=(ZoomControl(options=['position', 'zoom_in_text', 'zoom_in_title', 'zoom_ou…"
      ]
     },
     "execution_count": 23,
     "metadata": {},
     "output_type": "execute_result"
    }
   ],
   "source": [
    "from ipyleaflet import Map, Marker, MarkerCluster, basemaps\n",
    "\n",
    "# Map centered on south west part of Madrid\n",
    "map = Map(center = (40.35, -3.8), zoom = 11.5, min_zoom = 1, max_zoom = 20, \n",
    "    basemap=basemaps.OpenStreetMap.Mapnik)\n",
    "map"
   ]
  },
  {
   "cell_type": "code",
   "execution_count": 24,
   "id": "present-mistress",
   "metadata": {},
   "outputs": [
    {
     "name": "stdout",
     "output_type": "stream",
     "text": [
      "Series([], Name: latitude, dtype: object)\n",
      "Series([], Name: longitude, dtype: object)\n"
     ]
    },
    {
     "data": {
      "application/vnd.jupyter.widget-view+json": {
       "model_id": "c7c2424cc41b4b95a65e06a78cbe72df",
       "version_major": 2,
       "version_minor": 0
      },
      "text/plain": [
       "Map(center=[40.35, -3.8], controls=(ZoomControl(options=['position', 'zoom_in_text', 'zoom_in_title', 'zoom_ou…"
      ]
     },
     "execution_count": 24,
     "metadata": {},
     "output_type": "execute_result"
    }
   ],
   "source": [
    "## HERE: plot the coordinates of the estates\n",
    "## PUT HERE YOUR CODE:\n",
    "ga_latitude = sb_populations.loc[sb_populations['level5'] == ('Getafe','Alcorcón')].latitude\n",
    "print(ga_latitude)\n",
    "ga_longitude = sb_populations.loc[sb_populations['level5'] == ('Getafe','Alcorcón')].longitude\n",
    "print(ga_longitude)\n",
    "# map.add(Marker(location=(52.204793, 360.121558)))\n",
    "\n",
    "lan_long_list = []\n",
    "for lat in ga_latitude:\n",
    "    for lon in ga_longitude:\n",
    "       # print(lon, lat)\n",
    "        maker = Marker(location=(lat, lon))\n",
    "        lan_long_list.append(maker)\n",
    "\n",
    "sb_cluster = MarkerCluster(\n",
    "    markers=lan_long_list, name=\"Makers\"\n",
    ")\n",
    "\n",
    "map.add(sb_cluster)\n",
    "\n",
    "map"
   ]
  }
 ],
 "metadata": {
  "kernelspec": {
   "display_name": "Python 3",
   "language": "python",
   "name": "python3"
  },
  "language_info": {
   "codemirror_mode": {
    "name": "ipython",
    "version": 3
   },
   "file_extension": ".py",
   "mimetype": "text/x-python",
   "name": "python",
   "nbconvert_exporter": "python",
   "pygments_lexer": "ipython3",
   "version": "3.11.4"
  }
 },
 "nbformat": 4,
 "nbformat_minor": 5
}
